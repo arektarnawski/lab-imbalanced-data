{
 "cells": [
  {
   "cell_type": "code",
   "execution_count": null,
   "id": "00b3bd50-e567-45ed-962c-7647f983bd33",
   "metadata": {},
   "outputs": [],
   "source": [
    "# Lab Imbalanced Data"
   ]
  },
  {
   "cell_type": "code",
   "execution_count": 16,
   "id": "269e6da8-80a6-4f02-9bfd-8c98566838aa",
   "metadata": {},
   "outputs": [],
   "source": [
    "#1 Load data\n",
    "\n",
    "import pandas as pd\n",
    "\n",
    "data = pd.read_csv('customer_churn.csv')"
   ]
  },
  {
   "cell_type": "code",
   "execution_count": 17,
   "id": "d60707ce-9ae8-4f00-b9ca-7ea0d2309dfb",
   "metadata": {},
   "outputs": [],
   "source": [
    "#2 Dropping irrelevant columns (as instructed by lab)\n",
    "\n",
    "data = data[['SeniorCitizen', 'tenure', 'MonthlyCharges', 'Churn']]\n"
   ]
  },
  {
   "cell_type": "code",
   "execution_count": 21,
   "id": "d7b86087-83ae-45f5-8447-06738333f4d0",
   "metadata": {},
   "outputs": [
    {
     "data": {
      "text/plain": [
       "0    5174\n",
       "1    1869\n",
       "Name: Churn, dtype: int64"
      ]
     },
     "execution_count": 21,
     "metadata": {},
     "output_type": "execute_result"
    }
   ],
   "source": [
    "#3 Reviewing the data\n",
    "\n",
    "data.shape # 7043 rows, 4 columns (including the target variable)\n",
    "data.isna().sum() # no NaNs\n",
    "data['Churn'].value_counts() #imbalanced data, 5174 No's and 1869 Yes's"
   ]
  },
  {
   "cell_type": "code",
   "execution_count": 20,
   "id": "59761a47-abd7-4fc5-8da9-7200fc54706f",
   "metadata": {},
   "outputs": [
    {
     "data": {
      "text/html": [
       "<div>\n",
       "<style scoped>\n",
       "    .dataframe tbody tr th:only-of-type {\n",
       "        vertical-align: middle;\n",
       "    }\n",
       "\n",
       "    .dataframe tbody tr th {\n",
       "        vertical-align: top;\n",
       "    }\n",
       "\n",
       "    .dataframe thead th {\n",
       "        text-align: right;\n",
       "    }\n",
       "</style>\n",
       "<table border=\"1\" class=\"dataframe\">\n",
       "  <thead>\n",
       "    <tr style=\"text-align: right;\">\n",
       "      <th></th>\n",
       "      <th>SeniorCitizen</th>\n",
       "      <th>tenure</th>\n",
       "      <th>MonthlyCharges</th>\n",
       "      <th>Churn</th>\n",
       "    </tr>\n",
       "  </thead>\n",
       "  <tbody>\n",
       "    <tr>\n",
       "      <th>0</th>\n",
       "      <td>0</td>\n",
       "      <td>1</td>\n",
       "      <td>29.85</td>\n",
       "      <td>0</td>\n",
       "    </tr>\n",
       "    <tr>\n",
       "      <th>1</th>\n",
       "      <td>0</td>\n",
       "      <td>34</td>\n",
       "      <td>56.95</td>\n",
       "      <td>0</td>\n",
       "    </tr>\n",
       "    <tr>\n",
       "      <th>2</th>\n",
       "      <td>0</td>\n",
       "      <td>2</td>\n",
       "      <td>53.85</td>\n",
       "      <td>1</td>\n",
       "    </tr>\n",
       "    <tr>\n",
       "      <th>3</th>\n",
       "      <td>0</td>\n",
       "      <td>45</td>\n",
       "      <td>42.30</td>\n",
       "      <td>0</td>\n",
       "    </tr>\n",
       "    <tr>\n",
       "      <th>4</th>\n",
       "      <td>0</td>\n",
       "      <td>2</td>\n",
       "      <td>70.70</td>\n",
       "      <td>1</td>\n",
       "    </tr>\n",
       "    <tr>\n",
       "      <th>...</th>\n",
       "      <td>...</td>\n",
       "      <td>...</td>\n",
       "      <td>...</td>\n",
       "      <td>...</td>\n",
       "    </tr>\n",
       "    <tr>\n",
       "      <th>7038</th>\n",
       "      <td>0</td>\n",
       "      <td>24</td>\n",
       "      <td>84.80</td>\n",
       "      <td>0</td>\n",
       "    </tr>\n",
       "    <tr>\n",
       "      <th>7039</th>\n",
       "      <td>0</td>\n",
       "      <td>72</td>\n",
       "      <td>103.20</td>\n",
       "      <td>0</td>\n",
       "    </tr>\n",
       "    <tr>\n",
       "      <th>7040</th>\n",
       "      <td>0</td>\n",
       "      <td>11</td>\n",
       "      <td>29.60</td>\n",
       "      <td>0</td>\n",
       "    </tr>\n",
       "    <tr>\n",
       "      <th>7041</th>\n",
       "      <td>1</td>\n",
       "      <td>4</td>\n",
       "      <td>74.40</td>\n",
       "      <td>1</td>\n",
       "    </tr>\n",
       "    <tr>\n",
       "      <th>7042</th>\n",
       "      <td>0</td>\n",
       "      <td>66</td>\n",
       "      <td>105.65</td>\n",
       "      <td>0</td>\n",
       "    </tr>\n",
       "  </tbody>\n",
       "</table>\n",
       "<p>7043 rows × 4 columns</p>\n",
       "</div>"
      ],
      "text/plain": [
       "      SeniorCitizen  tenure  MonthlyCharges  Churn\n",
       "0                 0       1           29.85      0\n",
       "1                 0      34           56.95      0\n",
       "2                 0       2           53.85      1\n",
       "3                 0      45           42.30      0\n",
       "4                 0       2           70.70      1\n",
       "...             ...     ...             ...    ...\n",
       "7038              0      24           84.80      0\n",
       "7039              0      72          103.20      0\n",
       "7040              0      11           29.60      0\n",
       "7041              1       4           74.40      1\n",
       "7042              0      66          105.65      0\n",
       "\n",
       "[7043 rows x 4 columns]"
      ]
     },
     "execution_count": 20,
     "metadata": {},
     "output_type": "execute_result"
    }
   ],
   "source": [
    "#4 Wrangling\n",
    "\n",
    "# Converting the Churn to 0 & 1 (for heatmap purpose)\n",
    "data['Churn'] = data['Churn'].apply(lambda x: 1 if x == 'Yes' else 0)"
   ]
  },
  {
   "cell_type": "code",
   "execution_count": 24,
   "id": "f3d60932-4be4-425e-b823-207430a61d5f",
   "metadata": {},
   "outputs": [
    {
     "data": {
      "image/png": "[encoded data removed]",
      "text/plain": [
       "<Figure size 432x288 with 2 Axes>"
      ]
     },
     "metadata": {
      "needs_background": "light"
     },
     "output_type": "display_data"
    }
   ],
   "source": [
    "#5 Multicolinearity\n",
    "\n",
    "import matplotlib.pyplot as plt\n",
    "import seaborn as sns\n",
    "\n",
    "correlations_matrix = data.corr()\n",
    "sns.heatmap(correlations_matrix, annot=True)\n",
    "plt.show()\n",
    "\n",
    "# Features are not correlated (good) but also not strongly correlated to the target (not so good)"
   ]
  },
  {
   "cell_type": "code",
   "execution_count": 111,
   "id": "aa60de02-9f39-4c57-a607-1776a54d1458",
   "metadata": {},
   "outputs": [],
   "source": [
    "#6 Splitting X and y\n",
    "\n",
    "y = data['Churn']\n",
    "X = data.drop('Churn',axis = 1)"
   ]
  },
  {
   "cell_type": "code",
   "execution_count": 26,
   "id": "750b7235-6e07-4d51-8877-d3ff4635a0ce",
   "metadata": {},
   "outputs": [],
   "source": [
    "#7 Test/trian split\n",
    "\n",
    "from sklearn.model_selection import train_test_split\n",
    "\n",
    "X_train, X_test, y_train, y_test = train_test_split(X, y, random_state=0)"
   ]
  },
  {
   "cell_type": "code",
   "execution_count": 27,
   "id": "0be7f3e0-b85a-4df8-a004-7b5e9a230ebb",
   "metadata": {},
   "outputs": [],
   "source": [
    "#8 Scaling the features\n",
    "\n",
    "from sklearn.preprocessing import StandardScaler\n",
    "\n",
    "transformer = StandardScaler().fit(X_train)\n",
    "X_train_scaled = pd.DataFrame(transformer.transform(X_train),columns=X.columns)\n",
    "\n",
    "X_test_scaled = pd.DataFrame(transformer.transform(X_test),columns=X.columns)"
   ]
  },
  {
   "cell_type": "code",
   "execution_count": 28,
   "id": "10a0abb8-6ecc-4fa7-af77-ed83547a5185",
   "metadata": {},
   "outputs": [],
   "source": [
    "#9 Resetting index for targets (to make pd.concat work again)\n",
    "\n",
    "y_train = y_train.reset_index(drop=True) \n",
    "y_test = y_test.reset_index(drop=True) "
   ]
  },
  {
   "cell_type": "code",
   "execution_count": 75,
   "id": "ebbb6cbf-c95d-435c-923c-2e62d1a69122",
   "metadata": {},
   "outputs": [
    {
     "data": {
      "text/plain": [
       "0.7808063600227144"
      ]
     },
     "metadata": {},
     "output_type": "display_data"
    },
    {
     "name": "stdout",
     "output_type": "stream",
     "text": [
      "precision:  0.6115942028985507\n",
      "recall:  0.4557235421166307\n",
      "f1:  0.5222772277227723\n"
     ]
    },
    {
     "data": {
      "text/plain": [
       "array([[1164,  134],\n",
       "       [ 252,  211]])"
      ]
     },
     "execution_count": 75,
     "metadata": {},
     "output_type": "execute_result"
    }
   ],
   "source": [
    "#10 Creating model\n",
    "\n",
    "from sklearn.linear_model import LogisticRegression\n",
    "\n",
    "LR = LogisticRegression(random_state=0, solver='lbfgs')\n",
    "LR.fit(X_train_scaled, y_train)\n",
    "display(LR.score(X_test_scaled, y_test))\n",
    "\n",
    "from sklearn.metrics import precision_score\n",
    "from sklearn.metrics import recall_score\n",
    "from sklearn.metrics import f1_score\n",
    "\n",
    "pred = LR.predict(X_test_scaled)\n",
    "\n",
    "print(\"precision: \",precision_score(y_test,pred))\n",
    "print(\"recall: \",recall_score(y_test,pred))\n",
    "print(\"f1: \",f1_score(y_test,pred))\n",
    "\n",
    "from sklearn.metrics import confusion_matrix\n",
    "confusion_matrix(y_test,pred)\n",
    "\n",
    "# Not the greatest recall score despite pretty high overall score.\n",
    "# Meaning: we are mkissing around 55% of customers that are likely to churn in our predictions"
   ]
  },
  {
   "cell_type": "code",
   "execution_count": 94,
   "id": "d5636190-0fe0-4435-b7e3-f0713598ea35",
   "metadata": {},
   "outputs": [
    {
     "data": {
      "text/plain": [
       "0.7194775695627484"
      ]
     },
     "metadata": {},
     "output_type": "display_data"
    },
    {
     "name": "stdout",
     "output_type": "stream",
     "text": [
      "precision:  0.4776978417266187\n",
      "recall:  0.7170626349892009\n",
      "f1:  0.5734024179620035\n"
     ]
    },
    {
     "data": {
      "text/plain": [
       "array([[935, 363],\n",
       "       [131, 332]])"
      ]
     },
     "execution_count": 94,
     "metadata": {},
     "output_type": "execute_result"
    }
   ],
   "source": [
    "#11 Testing out the SMOTE to see if there will be any improvement\n",
    "\n",
    "from imblearn.over_sampling import SMOTE\n",
    "\n",
    "sm = SMOTE(random_state=100,k_neighbors=3)\n",
    "X_train_SMOTE,y_train_SMOTE = sm.fit_resample(X_train_scaled,y_train)\n",
    "\n",
    "LR = LogisticRegression(max_iter=1000)\n",
    "LR.fit(X_train_SMOTE, y_train_SMOTE)\n",
    "display(LR.score(X_test_scaled, y_test))\n",
    "pred = LR.predict(X_test_scaled)\n",
    "\n",
    "print(\"precision: \",precision_score(y_test,pred))\n",
    "print(\"recall: \",recall_score(y_test,pred))\n",
    "print(\"f1: \",f1_score(y_test,pred))\n",
    "\n",
    "confusion_matrix(y_test,pred)\n",
    "# much higher recall (good) than initially, despite lower score and precision. Some improvement in f1"
   ]
  },
  {
   "cell_type": "code",
   "execution_count": 108,
   "id": "5ef0fb9b-ab16-41f3-b458-d6c44072e64f",
   "metadata": {},
   "outputs": [
    {
     "data": {
      "text/plain": [
       "0.7189097103918228"
      ]
     },
     "metadata": {},
     "output_type": "display_data"
    },
    {
     "name": "stdout",
     "output_type": "stream",
     "text": [
      "precision:  0.47701149425287354\n",
      "recall:  0.7170626349892009\n",
      "f1:  0.5729076790336497\n"
     ]
    },
    {
     "data": {
      "text/plain": [
       "array([[934, 364],\n",
       "       [131, 332]])"
      ]
     },
     "metadata": {},
     "output_type": "display_data"
    }
   ],
   "source": [
    "#12 Bonus: over & undersampling at the same time\n",
    "\n",
    "# Apply to train data only\n",
    "\n",
    "train = pd.concat([X_train_scaled, y_train],axis=1)\n",
    "\n",
    "from sklearn.utils import resample\n",
    "\n",
    "no_churn = train[train['Churn']==0]\n",
    "yes_churn = train[train['Churn']==1]\n",
    "\n",
    "yes_churn_oversampled = resample(yes_churn,\n",
    "                                    replace=True, \n",
    "                                    n_samples = len(no_churn)-int((len(no_churn)-len(yes_churn))/2),\n",
    "                                    random_state=2)\n",
    "\n",
    "no_churn_undersampled = resample(no_churn,\n",
    "                                    replace=False,\n",
    "                                    n_samples = len(yes_churn)+int((len(no_churn)-len(yes_churn))/2),\n",
    "                                    random_state=2)\n",
    "\n",
    "train_underover = pd.concat([yes_churn_oversampled,no_churn_undersampled])\n",
    "\n",
    "y = train_underover['Churn']\n",
    "X = train_underover.drop('Churn',axis = 1)\n",
    "\n",
    "LR = LogisticRegression(max_iter=100)\n",
    "LR.fit(X, y)\n",
    "pred = LR.predict(X_test_scaled)\n",
    "\n",
    "display(LR.score(X_test_scaled, y_test))\n",
    "print(\"precision: \",precision_score(y_test,pred))\n",
    "print(\"recall: \",recall_score(y_test,pred))\n",
    "print(\"f1: \",f1_score(y_test,pred))\n",
    "\n",
    "display(confusion_matrix(y_test,pred))\n",
    "\n",
    "# essentially same results as SMOTE"
   ]
  },
  {
   "cell_type": "code",
   "execution_count": null,
   "id": "b1a9474d-07d0-40d1-85c7-5ef2ef0e2f94",
   "metadata": {},
   "outputs": [],
   "source": [
    "# Fun exercise the loop through al three random states (test/trian split and 2x over/undersampling) to see what the maximum recall score can be\n",
    "\n",
    "\n",
    "import itertools\n",
    "\n",
    "recall_dict = {}\n",
    "\n",
    "for a in range(100):\n",
    "    \n",
    "    X_train, X_test, y_train, y_test = train_test_split(X, y, random_state=a)\n",
    "    transformer = StandardScaler().fit(X_train)\n",
    "    X_train_scaled = pd.DataFrame(transformer.transform(X_train),columns=X.columns)\n",
    "    X_test_scaled = pd.DataFrame(transformer.transform(X_test),columns=X.columns)\n",
    "    y_train = y_train.reset_index(drop=True) \n",
    "    y_test = y_test.reset_index(drop=True) \n",
    "\n",
    "    for b, b in itertools.product(range(100), range(100)):\n",
    "        \n",
    "        train = pd.concat([X_train_scaled, y_train],axis=1)\n",
    "\n",
    "        from sklearn.utils import resample\n",
    "\n",
    "        no_churn = train[train['Churn']==0]\n",
    "        yes_churn = train[train['Churn']==1]\n",
    "\n",
    "        yes_churn_oversampled = resample(yes_churn,\n",
    "                                            replace=True, \n",
    "                                            n_samples = len(no_churn)-int((len(no_churn)-len(yes_churn))/2),\n",
    "                                            random_state=b)\n",
    "\n",
    "        no_churn_undersampled = resample(no_churn,\n",
    "                                            replace=False,\n",
    "                                            n_samples = len(yes_churn)+int((len(no_churn)-len(yes_churn))/2),\n",
    "                                            random_state=b)\n",
    "\n",
    "        train_underover = pd.concat([yes_churn_oversampled,no_churn_undersampled])\n",
    "\n",
    "        y_underover = train_underover['Churn']\n",
    "        X_underover = train_underover.drop('Churn',axis = 1)\n",
    "\n",
    "        LR = LogisticRegression(max_iter=100)\n",
    "        LR.fit(X_underover, y_underover)\n",
    "        pred = LR.predict(X_test_scaled)\n",
    "\n",
    "        recall_dict[round(recall_score(y_test,pred),3)] = a, b, c\n",
    "        \n",
    "display(max(recall_dict))\n",
    "display(recall_dict[max(recall_dict)]) ## So far, getting to 0.788 recall at a = 73, b = 26, c = 9"
   ]
  }
 ],
 "metadata": {
  "kernelspec": {
   "display_name": "Python 3",
   "language": "python",
   "name": "python3"
  },
  "language_info": {
   "codemirror_mode": {
    "name": "ipython",
    "version": 3
   },
   "file_extension": ".py",
   "mimetype": "text/x-python",
   "name": "python",
   "nbconvert_exporter": "python",
   "pygments_lexer": "ipython3",
   "version": "3.8.8"
  }
 },
 "nbformat": 4,
 "nbformat_minor": 5
}
